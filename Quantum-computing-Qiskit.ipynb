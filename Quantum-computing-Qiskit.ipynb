{
 "cells": [
  {
   "cell_type": "markdown",
   "id": "47776fde",
   "metadata": {},
   "source": [
    "# Qiskit\n",
    "\n",
    "Instalamos Qiskit"
   ]
  },
  {
   "cell_type": "code",
   "execution_count": 1,
   "id": "ea4e4b28",
   "metadata": {},
   "outputs": [],
   "source": [
    "#!pip install qiskit"
   ]
  },
  {
   "cell_type": "markdown",
   "id": "c09d9364",
   "metadata": {},
   "source": [
    "## Importamos todo de qiskit"
   ]
  },
  {
   "cell_type": "code",
   "execution_count": 2,
   "id": "fef1b9da",
   "metadata": {},
   "outputs": [],
   "source": [
    "from qiskit import *"
   ]
  },
  {
   "cell_type": "markdown",
   "id": "a1dca864",
   "metadata": {},
   "source": [
    "## Comprobamos la versión"
   ]
  },
  {
   "cell_type": "code",
   "execution_count": 40,
   "id": "ae840123",
   "metadata": {},
   "outputs": [
    {
     "data": {
      "text/plain": [
       "{'qiskit-terra': '0.18.3', 'qiskit-aer': '0.9.1', 'qiskit-ignis': '0.6.0', 'qiskit-ibmq-provider': '0.18.1', 'qiskit-aqua': '0.9.5', 'qiskit': '0.32.1', 'qiskit-nature': None, 'qiskit-finance': None, 'qiskit-optimization': None, 'qiskit-machine-learning': None}"
      ]
     },
     "execution_count": 40,
     "metadata": {},
     "output_type": "execute_result"
    }
   ],
   "source": [
    "qiskit.__qiskit_version__"
   ]
  },
  {
   "cell_type": "code",
   "execution_count": 4,
   "id": "17818120",
   "metadata": {},
   "outputs": [
    {
     "name": "stdout",
     "output_type": "stream",
     "text": [
      "qiskit-terra 0.18.3\n",
      "qiskit-aer 0.9.1\n",
      "qiskit-ignis 0.6.0\n",
      "qiskit-ibmq-provider 0.18.1\n",
      "qiskit-aqua 0.9.5\n",
      "qiskit 0.32.1\n",
      "qiskit-nature None\n",
      "qiskit-finance None\n",
      "qiskit-optimization None\n",
      "qiskit-machine-learning None\n"
     ]
    }
   ],
   "source": [
    "for element, version in qiskit.__qiskit_version__.items():\n",
    "    print(element,version)"
   ]
  },
  {
   "cell_type": "code",
   "execution_count": 5,
   "id": "08894681",
   "metadata": {},
   "outputs": [
    {
     "name": "stdout",
     "output_type": "stream",
     "text": [
      "('qiskit-terra', '0.18.3')\n",
      "('qiskit-aer', '0.9.1')\n",
      "('qiskit-ignis', '0.6.0')\n",
      "('qiskit-ibmq-provider', '0.18.1')\n",
      "('qiskit-aqua', '0.9.5')\n",
      "('qiskit', '0.32.1')\n",
      "('qiskit-nature', None)\n",
      "('qiskit-finance', None)\n",
      "('qiskit-optimization', None)\n",
      "('qiskit-machine-learning', None)\n"
     ]
    }
   ],
   "source": [
    "for version in qiskit.__qiskit_version__.items():\n",
    "    print(version)"
   ]
  },
  {
   "cell_type": "markdown",
   "id": "ce16d485",
   "metadata": {},
   "source": [
    "## Creamos el circuito\n",
    "\n",
    "La mayoría de los circuitos serán una combinación de registros clásicos y cuánticos\n",
    "\n",
    "**Los registros cuánticos** son usados para:\n",
    "\n",
    "* realizar operaciones mecánicas cuánticas en qubits\n",
    "\n",
    "**Los registros clásicos:**\n",
    "\n",
    "* Serán usados para realizar operaciones clásicas de las medidas obtenidas"
   ]
  },
  {
   "cell_type": "markdown",
   "id": "c889ffe8",
   "metadata": {},
   "source": [
    "### Registro cuántico de 2 qubits"
   ]
  },
  {
   "cell_type": "code",
   "execution_count": 6,
   "id": "3d1d3055",
   "metadata": {},
   "outputs": [
    {
     "data": {
      "text/plain": [
       "QuantumRegister(2, 'q0')"
      ]
     },
     "execution_count": 6,
     "metadata": {},
     "output_type": "execute_result"
    }
   ],
   "source": [
    "qr = QuantumRegister(2)\n",
    "qr"
   ]
  },
  {
   "cell_type": "markdown",
   "id": "5a93c267",
   "metadata": {},
   "source": [
    "### Registro clásico de 2 bits"
   ]
  },
  {
   "cell_type": "code",
   "execution_count": 7,
   "id": "f0c03f58",
   "metadata": {},
   "outputs": [],
   "source": [
    "cr = ClassicalRegister(2)"
   ]
  },
  {
   "cell_type": "markdown",
   "id": "95fb6832",
   "metadata": {},
   "source": [
    "### Construimos un circuito con estos dos"
   ]
  },
  {
   "cell_type": "code",
   "execution_count": 8,
   "id": "d507a2e4",
   "metadata": {},
   "outputs": [
    {
     "data": {
      "text/plain": [
       "<qiskit.circuit.quantumcircuit.QuantumCircuit at 0x26757b0ba00>"
      ]
     },
     "execution_count": 8,
     "metadata": {},
     "output_type": "execute_result"
    }
   ],
   "source": [
    "circuit = QuantumCircuit(qr,cr)\n",
    "circuit"
   ]
  },
  {
   "cell_type": "markdown",
   "id": "3ae91861",
   "metadata": {},
   "source": [
    "## Dibujamos el circuito"
   ]
  },
  {
   "cell_type": "code",
   "execution_count": 9,
   "id": "34c8319c",
   "metadata": {},
   "outputs": [
    {
     "name": "stdout",
     "output_type": "stream",
     "text": [
      "Requirement already satisfied: pylatexenc in c:\\users\\sylk_\\anaconda3\\envs\\pycaret\\lib\\site-packages (2.10)\n"
     ]
    }
   ],
   "source": [
    "!pip install pylatexenc\n",
    "%matplotlib inline"
   ]
  },
  {
   "cell_type": "code",
   "execution_count": 10,
   "id": "1d08c8d8",
   "metadata": {},
   "outputs": [
    {
     "data": {
      "text/html": [
       "<pre style=\"word-wrap: normal;white-space: pre;background: #fff0;line-height: 1.1;font-family: &quot;Courier New&quot;,Courier,monospace\">      \n",
       "q0_0: \n",
       "      \n",
       "q0_1: \n",
       "      \n",
       "c0: 2/\n",
       "      </pre>"
      ],
      "text/plain": [
       "      \n",
       "q0_0: \n",
       "      \n",
       "q0_1: \n",
       "      \n",
       "c0: 2/\n",
       "      "
      ]
     },
     "execution_count": 10,
     "metadata": {},
     "output_type": "execute_result"
    }
   ],
   "source": [
    "circuit.draw()"
   ]
  },
  {
   "cell_type": "code",
   "execution_count": 11,
   "id": "a088e404",
   "metadata": {},
   "outputs": [
    {
     "data": {
      "image/png": "[encoded data removed]",
      "text/plain": [
       "<Figure size 129.533x204.68 with 1 Axes>"
      ]
     },
     "execution_count": 11,
     "metadata": {},
     "output_type": "execute_result"
    }
   ],
   "source": [
    "circuit.draw(output='mpl')"
   ]
  },
  {
   "cell_type": "markdown",
   "id": "0fddb366",
   "metadata": {},
   "source": [
    "### Vemos dos bits cuánticos y 2 bits clásicos\n",
    "\n",
    "### Bits cuánticos (q0_0) y (q0_1)"
   ]
  },
  {
   "cell_type": "markdown",
   "id": "992daebb",
   "metadata": {},
   "source": [
    "Con el objetivo de crear \"entanglement\" (entrelazamiento cuántico)\n",
    "Lo primero es aplicar la puerta Hadamard en el primer qubit (q0_0)\n",
    "con ello logramos la \"superposición)\"\n",
    "al aplicar el operador H produce que un qubit pase de un estado básico, |0> o |1>, a un estado de superposición equiparable de ambos estados"
   ]
  },
  {
   "cell_type": "code",
   "execution_count": 12,
   "id": "f3ed25cd",
   "metadata": {},
   "outputs": [
    {
     "data": {
      "text/plain": [
       "<qiskit.circuit.instructionset.InstructionSet at 0x26757cf5640>"
      ]
     },
     "execution_count": 12,
     "metadata": {},
     "output_type": "execute_result"
    }
   ],
   "source": [
    "circuit.h(qr[0])"
   ]
  },
  {
   "cell_type": "code",
   "execution_count": 13,
   "id": "bed64347",
   "metadata": {},
   "outputs": [
    {
     "data": {
      "text/html": [
       "<pre style=\"word-wrap: normal;white-space: pre;background: #fff0;line-height: 1.1;font-family: &quot;Courier New&quot;,Courier,monospace\">      ┌───┐\n",
       "q0_0: ┤ H ├\n",
       "      └───┘\n",
       "q0_1: ─────\n",
       "           \n",
       "c0: 2/═════\n",
       "           </pre>"
      ],
      "text/plain": [
       "      ┌───┐\n",
       "q0_0: ┤ H ├\n",
       "      └───┘\n",
       "q0_1: ─────\n",
       "           \n",
       "c0: 2/═════\n",
       "           "
      ]
     },
     "execution_count": 13,
     "metadata": {},
     "output_type": "execute_result"
    }
   ],
   "source": [
    "circuit.draw()"
   ]
  },
  {
   "cell_type": "code",
   "execution_count": 14,
   "id": "4873061f",
   "metadata": {},
   "outputs": [
    {
     "data": {
      "image/png": "[encoded data removed]",
      "text/plain": [
       "<Figure size 159.633x204.68 with 1 Axes>"
      ]
     },
     "execution_count": 14,
     "metadata": {},
     "output_type": "execute_result"
    }
   ],
   "source": [
    "#mejor visualizad\n",
    "circuit.draw(output='mpl')"
   ]
  },
  {
   "cell_type": "markdown",
   "id": "d32f81e9",
   "metadata": {},
   "source": [
    "Aparece la puerta Hadamard (Hadamard gate) tal y como se ve en azul\n",
    "\n",
    "Ahora la puerta cx, que es la \"controlled-x gate\" y la puerta hace un not en qubit target si el qubit de control está en estado 1\n",
    "por defecto todos los qubits son inicializados a 0\n",
    "\n",
    "En la siguiente ecuación\n",
    "el de control (qr[0]),\n",
    "el target (qr[1])\n"
   ]
  },
  {
   "cell_type": "code",
   "execution_count": 15,
   "id": "10f3a885",
   "metadata": {},
   "outputs": [
    {
     "data": {
      "text/plain": [
       "<qiskit.circuit.instructionset.InstructionSet at 0x26757dda970>"
      ]
     },
     "execution_count": 15,
     "metadata": {},
     "output_type": "execute_result"
    }
   ],
   "source": [
    "circuit.cx(qr[0],qr[1])"
   ]
  },
  {
   "cell_type": "markdown",
   "id": "2d84814b",
   "metadata": {},
   "source": [
    "Lo dibujamos"
   ]
  },
  {
   "cell_type": "code",
   "execution_count": 16,
   "id": "2c75e1f5",
   "metadata": {},
   "outputs": [
    {
     "data": {
      "text/html": [
       "<pre style=\"word-wrap: normal;white-space: pre;background: #fff0;line-height: 1.1;font-family: &quot;Courier New&quot;,Courier,monospace\">      ┌───┐     \n",
       "q0_0: ┤ H ├──■──\n",
       "      └───┘┌─┴─┐\n",
       "q0_1: ─────┤ X ├\n",
       "           └───┘\n",
       "c0: 2/══════════\n",
       "                </pre>"
      ],
      "text/plain": [
       "      ┌───┐     \n",
       "q0_0: ┤ H ├──■──\n",
       "      └───┘┌─┴─┐\n",
       "q0_1: ─────┤ X ├\n",
       "           └───┘\n",
       "c0: 2/══════════\n",
       "                "
      ]
     },
     "execution_count": 16,
     "metadata": {},
     "output_type": "execute_result"
    }
   ],
   "source": [
    "circuit.draw()"
   ]
  },
  {
   "cell_type": "code",
   "execution_count": 17,
   "id": "e97b23ba",
   "metadata": {},
   "outputs": [
    {
     "data": {
      "image/png": "[encoded data removed]",
      "text/plain": [
       "<Figure size 219.833x204.68 with 1 Axes>"
      ]
     },
     "execution_count": 17,
     "metadata": {},
     "output_type": "execute_result"
    }
   ],
   "source": [
    "circuit.draw(output='mpl')"
   ]
  },
  {
   "cell_type": "markdown",
   "id": "fcd8c3f6",
   "metadata": {},
   "source": [
    "## Medición de los bits cuánticos\n",
    "\n",
    "Un experimento real termina por medir cada qubit.\n",
    "Sin medición no podemos obtener información acerca del estado"
   ]
  },
  {
   "cell_type": "code",
   "execution_count": 18,
   "id": "0b43c0e2",
   "metadata": {},
   "outputs": [
    {
     "data": {
      "text/plain": [
       "<qiskit.circuit.instructionset.InstructionSet at 0x26757e4b2b0>"
      ]
     },
     "execution_count": 18,
     "metadata": {},
     "output_type": "execute_result"
    }
   ],
   "source": [
    "circuit.measure(qr,cr)"
   ]
  },
  {
   "cell_type": "code",
   "execution_count": 19,
   "id": "592a49e4",
   "metadata": {},
   "outputs": [
    {
     "data": {
      "text/html": [
       "<pre style=\"word-wrap: normal;white-space: pre;background: #fff0;line-height: 1.1;font-family: &quot;Courier New&quot;,Courier,monospace\">      ┌───┐     ┌─┐   \n",
       "q0_0: ┤ H ├──■──┤M├───\n",
       "      └───┘┌─┴─┐└╥┘┌─┐\n",
       "q0_1: ─────┤ X ├─╫─┤M├\n",
       "           └───┘ ║ └╥┘\n",
       "c0: 2/═══════════╩══╩═\n",
       "                 0  1 </pre>"
      ],
      "text/plain": [
       "      ┌───┐     ┌─┐   \n",
       "q0_0: ┤ H ├──■──┤M├───\n",
       "      └───┘┌─┴─┐└╥┘┌─┐\n",
       "q0_1: ─────┤ X ├─╫─┤M├\n",
       "           └───┘ ║ └╥┘\n",
       "c0: 2/═══════════╩══╩═\n",
       "                 0  1 "
      ]
     },
     "execution_count": 19,
     "metadata": {},
     "output_type": "execute_result"
    }
   ],
   "source": [
    "circuit.draw()"
   ]
  },
  {
   "cell_type": "code",
   "execution_count": 20,
   "id": "61c12e01",
   "metadata": {},
   "outputs": [
    {
     "data": {
      "image/png": "[encoded data removed]",
      "text/plain": [
       "<Figure size 340.233x204.68 with 1 Axes>"
      ]
     },
     "execution_count": 20,
     "metadata": {},
     "output_type": "execute_result"
    }
   ],
   "source": [
    "circuit.draw(output='mpl')"
   ]
  },
  {
   "cell_type": "markdown",
   "id": "679786b4",
   "metadata": {},
   "source": [
    "# Ejecutar el ejercicio en nuestro ordenador"
   ]
  },
  {
   "cell_type": "code",
   "execution_count": 21,
   "id": "0986d41f",
   "metadata": {},
   "outputs": [
    {
     "data": {
      "text/plain": [
       "QasmSimulator('qasm_simulator')"
      ]
     },
     "execution_count": 21,
     "metadata": {},
     "output_type": "execute_result"
    }
   ],
   "source": [
    "backend_simulator = Aer.get_backend('qasm_simulator')\n",
    "backend_simulator"
   ]
  },
  {
   "cell_type": "markdown",
   "id": "c81d84a6",
   "metadata": {},
   "source": [
    "### Opción 1"
   ]
  },
  {
   "cell_type": "code",
   "execution_count": 22,
   "id": "ff96f259",
   "metadata": {},
   "outputs": [
    {
     "data": {
      "text/plain": [
       "<qiskit.providers.aer.jobs.aerjob.AerJob at 0x26757f0f460>"
      ]
     },
     "execution_count": 22,
     "metadata": {},
     "output_type": "execute_result"
    }
   ],
   "source": [
    "job_simulator = execute(circuit, backend=backend_simulator)\n",
    "job_simulator"
   ]
  },
  {
   "cell_type": "markdown",
   "id": "ca4fdffc",
   "metadata": {},
   "source": [
    "### Opción 2"
   ]
  },
  {
   "cell_type": "code",
   "execution_count": 23,
   "id": "f7d7f8e1",
   "metadata": {},
   "outputs": [
    {
     "data": {
      "text/plain": [
       "<qiskit.providers.aer.jobs.aerjob.AerJob at 0x26757ef5df0>"
      ]
     },
     "execution_count": 23,
     "metadata": {},
     "output_type": "execute_result"
    }
   ],
   "source": [
    "execute(circuit,backend=backend_simulator, shots=1024)"
   ]
  },
  {
   "cell_type": "code",
   "execution_count": 24,
   "id": "aabeb194",
   "metadata": {},
   "outputs": [
    {
     "data": {
      "text/plain": [
       "Result(backend_name='qasm_simulator', backend_version='0.9.1', qobj_id='a9b0edfb-05a6-45d1-a2ec-14f009de3561', job_id='622337ce-e770-4385-a11b-e4caf08a596d', success=True, results=[ExperimentResult(shots=1024, success=True, meas_level=2, data=ExperimentResultData(counts={'0x0': 529, '0x3': 495}), header=QobjExperimentHeader(clbit_labels=[['c0', 0], ['c0', 1]], creg_sizes=[['c0', 2]], global_phase=0.0, memory_slots=2, metadata=None, n_qubits=2, name='circuit-9', qreg_sizes=[['q0', 2]], qubit_labels=[['q0', 0], ['q0', 1]]), status=DONE, seed_simulator=621900444, metadata={'method': 'stabilizer', 'active_input_qubits': [0, 1], 'device': 'CPU', 'remapped_qubits': False, 'num_qubits': 2, 'num_clbits': 2, 'input_qubit_map': [[0, 0], [1, 1]], 'measure_sampling': True, 'noise': 'ideal', 'parallel_shots': 1, 'parallel_state_update': 8, 'fusion': {'enabled': False}}, time_taken=0.0032431)], date=2021-11-29T19:59:56.021340, status=COMPLETED, status=QobjHeader(backend_name='qasm_simulator', backend_version='0.9.1'), metadata={'parallel_experiments': 1, 'omp_enabled': True, 'max_memory_mb': 8108, 'max_gpu_memory_mb': 0, 'mpi_rank': 0, 'num_mpi_processes': 1, 'time_taken': 0.0034452}, time_taken=0.0030078887939453125)"
      ]
     },
     "execution_count": 24,
     "metadata": {},
     "output_type": "execute_result"
    }
   ],
   "source": [
    "result = job_simulator.result()\n",
    "result"
   ]
  },
  {
   "cell_type": "code",
   "execution_count": 25,
   "id": "6002d2cf",
   "metadata": {},
   "outputs": [
    {
     "data": {
      "text/plain": [
       "'COMPLETED'"
      ]
     },
     "execution_count": 25,
     "metadata": {},
     "output_type": "execute_result"
    }
   ],
   "source": [
    "result.status"
   ]
  },
  {
   "cell_type": "markdown",
   "id": "416e1725",
   "metadata": {},
   "source": [
    "### plot_histogram"
   ]
  },
  {
   "cell_type": "code",
   "execution_count": 26,
   "id": "a0912653",
   "metadata": {},
   "outputs": [],
   "source": [
    "from qiskit.tools.visualization import plot_histogram"
   ]
  },
  {
   "cell_type": "code",
   "execution_count": 27,
   "id": "7feca1d7",
   "metadata": {},
   "outputs": [
    {
     "data": {
      "image/png": "[encoded data removed]",
      "text/plain": [
       "<Figure size 504x360 with 1 Axes>"
      ]
     },
     "execution_count": 27,
     "metadata": {},
     "output_type": "execute_result"
    }
   ],
   "source": [
    "plot_histogram(result.get_counts(circuit))"
   ]
  },
  {
   "cell_type": "markdown",
   "id": "59826d45",
   "metadata": {},
   "source": [
    "# Ejecución en quantum computer de IBM"
   ]
  },
  {
   "cell_type": "code",
   "execution_count": 28,
   "id": "656ea04e",
   "metadata": {},
   "outputs": [],
   "source": [
    "from qiskit import IBMQ"
   ]
  },
  {
   "cell_type": "markdown",
   "id": "e4468959",
   "metadata": {},
   "source": [
    "Aqui pondremos el token de nuestra cuenta"
   ]
  },
  {
   "cell_type": "code",
   "execution_count": 29,
   "id": "15438039",
   "metadata": {},
   "outputs": [],
   "source": [
    "#IBMQ.save_account('')"
   ]
  },
  {
   "cell_type": "code",
   "execution_count": 30,
   "id": "85a6453d",
   "metadata": {},
   "outputs": [
    {
     "data": {
      "text/plain": [
       "<AccountProvider for IBMQ(hub='ibm-q', group='open', project='main')>"
      ]
     },
     "execution_count": 30,
     "metadata": {},
     "output_type": "execute_result"
    }
   ],
   "source": [
    "IBMQ.load_account()"
   ]
  },
  {
   "cell_type": "code",
   "execution_count": 31,
   "id": "b104e9ee",
   "metadata": {},
   "outputs": [
    {
     "data": {
      "text/plain": [
       "[<AccountProvider for IBMQ(hub='ibm-q', group='open', project='main')>]"
      ]
     },
     "execution_count": 31,
     "metadata": {},
     "output_type": "execute_result"
    }
   ],
   "source": [
    "IBMQ.providers()"
   ]
  },
  {
   "cell_type": "code",
   "execution_count": 32,
   "id": "d887b3a5",
   "metadata": {},
   "outputs": [
    {
     "data": {
      "text/plain": [
       "<AccountProvider for IBMQ(hub='ibm-q', group='open', project='main')>"
      ]
     },
     "execution_count": 32,
     "metadata": {},
     "output_type": "execute_result"
    }
   ],
   "source": [
    "provider = IBMQ.get_provider('ibm-q')\n",
    "provider"
   ]
  },
  {
   "cell_type": "code",
   "execution_count": 33,
   "id": "81f00aa5",
   "metadata": {},
   "outputs": [
    {
     "data": {
      "text/plain": [
       "[<IBMQSimulator('ibmq_qasm_simulator') from IBMQ(hub='ibm-q', group='open', project='main')>,\n",
       " <IBMQBackend('ibmq_armonk') from IBMQ(hub='ibm-q', group='open', project='main')>,\n",
       " <IBMQBackend('ibmq_santiago') from IBMQ(hub='ibm-q', group='open', project='main')>,\n",
       " <IBMQBackend('ibmq_bogota') from IBMQ(hub='ibm-q', group='open', project='main')>,\n",
       " <IBMQBackend('ibmq_lima') from IBMQ(hub='ibm-q', group='open', project='main')>,\n",
       " <IBMQBackend('ibmq_belem') from IBMQ(hub='ibm-q', group='open', project='main')>,\n",
       " <IBMQBackend('ibmq_quito') from IBMQ(hub='ibm-q', group='open', project='main')>,\n",
       " <IBMQSimulator('simulator_statevector') from IBMQ(hub='ibm-q', group='open', project='main')>,\n",
       " <IBMQSimulator('simulator_mps') from IBMQ(hub='ibm-q', group='open', project='main')>,\n",
       " <IBMQSimulator('simulator_extended_stabilizer') from IBMQ(hub='ibm-q', group='open', project='main')>,\n",
       " <IBMQSimulator('simulator_stabilizer') from IBMQ(hub='ibm-q', group='open', project='main')>,\n",
       " <IBMQBackend('ibmq_manila') from IBMQ(hub='ibm-q', group='open', project='main')>]"
      ]
     },
     "execution_count": 33,
     "metadata": {},
     "output_type": "execute_result"
    }
   ],
   "source": [
    "provider.backends()"
   ]
  },
  {
   "cell_type": "markdown",
   "id": "30a9738c",
   "metadata": {},
   "source": [
    "Elejimos por ejemplo \n",
    "<IBMQBackend('ibmq_manila') from IBMQ(hub='ibm-q', group='open', project='main')>"
   ]
  },
  {
   "cell_type": "code",
   "execution_count": 34,
   "id": "1ebf5a39",
   "metadata": {},
   "outputs": [
    {
     "data": {
      "text/plain": [
       "<IBMQBackend('ibmq_manila') from IBMQ(hub='ibm-q', group='open', project='main')>"
      ]
     },
     "execution_count": 34,
     "metadata": {},
     "output_type": "execute_result"
    }
   ],
   "source": [
    "qcomp = provider.get_backend('ibmq_manila')\n",
    "qcomp"
   ]
  },
  {
   "cell_type": "code",
   "execution_count": 35,
   "id": "4fdfdb09",
   "metadata": {},
   "outputs": [
    {
     "data": {
      "text/plain": [
       "<qiskit.providers.ibmq.job.ibmqjob.IBMQJob at 0x26757f0f0a0>"
      ]
     },
     "execution_count": 35,
     "metadata": {},
     "output_type": "execute_result"
    }
   ],
   "source": [
    "job = execute(circuit, backend=qcomp)\n",
    "job"
   ]
  },
  {
   "cell_type": "code",
   "execution_count": 36,
   "id": "f2d13737",
   "metadata": {},
   "outputs": [],
   "source": [
    "from qiskit.tools.monitor import job_monitor"
   ]
  },
  {
   "cell_type": "code",
   "execution_count": 37,
   "id": "4f1b9964",
   "metadata": {},
   "outputs": [
    {
     "name": "stdout",
     "output_type": "stream",
     "text": [
      "Job Status: job has successfully run\n"
     ]
    }
   ],
   "source": [
    "job_monitor(job)"
   ]
  },
  {
   "cell_type": "markdown",
   "id": "2b539d15",
   "metadata": {},
   "source": [
    "Una empezará poniendose en cola y cada poco se actualiza\n",
    "poniendo:\n",
    "\n",
    "    Job Status: job is queued (12)\n",
    "    Job Status: job is queued (11)\n",
    "    Job Status: job is queued (10)\n",
    "    ...................."
   ]
  },
  {
   "cell_type": "markdown",
   "id": "74e9bef1",
   "metadata": {},
   "source": [
    "Cuando finaliza pone:\n",
    "    \n",
    "    Job Status: job has successfuly run\n",
    "        \n",
    "Una vez que se ha completado continuamos"
   ]
  },
  {
   "cell_type": "code",
   "execution_count": 38,
   "id": "e93ea004",
   "metadata": {},
   "outputs": [
    {
     "data": {
      "text/plain": [
       "Result(backend_name='ibmq_manila', backend_version='1.0.20', qobj_id='98c1ef48-98cb-4e8c-a97b-e965e591e619', job_id='61a523313270ebc8d7c2ebe9', success=True, results=[ExperimentResult(shots=1024, success=True, meas_level=2, data=ExperimentResultData(counts={'0x0': 460, '0x1': 39, '0x2': 24, '0x3': 501}), header=QobjExperimentHeader(clbit_labels=[['c0', 0], ['c0', 1]], creg_sizes=[['c0', 2]], global_phase=0.7853981633974483, memory_slots=2, metadata={}, n_qubits=5, name='circuit-9', qreg_sizes=[['q', 5]], qubit_labels=[['q', 0], ['q', 1], ['q', 2], ['q', 3], ['q', 4]]))], date=2021-11-29 20:52:35+01:00, status=Successful completion, status=QobjHeader(backend_name='ibmq_manila', backend_version='1.0.20'), execution_id='e27ffd4a-514d-11ec-b033-bc97e15b08d0', time_taken=5.341359615325928, error=None, client_version={'qiskit': '0.32.1'})"
      ]
     },
     "execution_count": 38,
     "metadata": {},
     "output_type": "execute_result"
    }
   ],
   "source": [
    "result = job.result()\n",
    "result"
   ]
  },
  {
   "cell_type": "code",
   "execution_count": 39,
   "id": "59e2b686",
   "metadata": {},
   "outputs": [
    {
     "data": {
      "image/png": "[encoded data removed]",
      "text/plain": [
       "<Figure size 504x360 with 1 Axes>"
      ]
     },
     "execution_count": 39,
     "metadata": {},
     "output_type": "execute_result"
    }
   ],
   "source": [
    "plot_histogram(result.get_counts(circuit))"
   ]
  },
  {
   "cell_type": "markdown",
   "id": "e28df80c",
   "metadata": {},
   "source": [
    "Podemos observar en la gráfica que hay interferencias por eso se muestra 01 y 10 con valores"
   ]
  }
 ],
 "metadata": {
  "kernelspec": {
   "display_name": "Python 3 (ipykernel)",
   "language": "python",
   "name": "python3"
  },
  "language_info": {
   "codemirror_mode": {
    "name": "ipython",
    "version": 3
   },
   "file_extension": ".py",
   "mimetype": "text/x-python",
   "name": "python",
   "nbconvert_exporter": "python",
   "pygments_lexer": "ipython3",
   "version": "3.9.7"
  }
 },
 "nbformat": 4,
 "nbformat_minor": 5
}
